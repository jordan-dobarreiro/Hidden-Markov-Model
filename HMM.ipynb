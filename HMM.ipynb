{
  "nbformat": 4,
  "nbformat_minor": 0,
  "metadata": {
    "colab": {
      "name": "HMM",
      "provenance": [],
      "collapsed_sections": []
    },
    "kernelspec": {
      "name": "python3",
      "display_name": "Python 3"
    }
  },
  "cells": [
    {
      "cell_type": "markdown",
      "metadata": {
        "id": "9xliESKRjABp"
      },
      "source": [
        "####  Hidden Markov Model (HMM)"
      ]
    },
    {
      "cell_type": "code",
      "metadata": {
        "id": "iAOe9ESRLa3Q"
      },
      "source": [
        "import numpy as np"
      ],
      "execution_count": null,
      "outputs": []
    },
    {
      "cell_type": "markdown",
      "metadata": {
        "id": "X6Vfx7hQOJwy"
      },
      "source": [
        "Evaluation Problem"
      ]
    },
    {
      "cell_type": "code",
      "metadata": {
        "id": "likkHrWgMiSJ"
      },
      "source": [
        "# Given Data from Example 1 from course\n",
        "\n",
        "# transition probabilities\n",
        "a = np.array([[1, 0, 0, 0],[0.2, 0.3, 0.1, 0.4],[0.2, 0.5, 0.2, 0.1],[0.7, 0.1, 0.1, 0.1]])\n",
        "\n",
        "# emission probabilities\n",
        "b = np.array([[1, 0, 0, 0, 0],[0.0, 0.3, 0.4, 0.1, 0.2],[0.0, 0.1, 0.1, 0.7, 0.1],[0.0, 0.5, 0.2, 0.1, 0.2]])\n",
        "\n",
        "# observables\n",
        "x = np.array(['x0','x1','x2','x3','x4'])\n",
        "\n",
        "# hidden states\n",
        "z = np.array(['z0','z1','z2','z3'])\n",
        "\n",
        "# sequence of observations\n",
        "k = [1,3,2,0]\n",
        "\n",
        "# states\n",
        "N = len(z)\n",
        "\n",
        "# time\n",
        "T = len(x)"
      ],
      "execution_count": null,
      "outputs": []
    },
    {
      "cell_type": "code",
      "metadata": {
        "id": "WPpMOABvNIwC",
        "colab": {
          "base_uri": "https://localhost:8080/"
        },
        "outputId": "fcc09375-9b6a-4128-932f-c4a1470ae06a"
      },
      "source": [
        "print(f'aij = \\n{a}')\n",
        "print(f'\\nbjk = \\n{b}')\n",
        "print(f'\\nx = \\n{x}')\n",
        "print(f'\\nz = \\n{z}')\n",
        "print(f'\\nk = \\n{k}')"
      ],
      "execution_count": null,
      "outputs": [
        {
          "output_type": "stream",
          "text": [
            "aij = \n",
            "[[1.  0.  0.  0. ]\n",
            " [0.2 0.3 0.1 0.4]\n",
            " [0.2 0.5 0.2 0.1]\n",
            " [0.7 0.1 0.1 0.1]]\n",
            "\n",
            "bjk = \n",
            "[[1.  0.  0.  0.  0. ]\n",
            " [0.  0.3 0.4 0.1 0.2]\n",
            " [0.  0.1 0.1 0.7 0.1]\n",
            " [0.  0.5 0.2 0.1 0.2]]\n",
            "\n",
            "x = \n",
            "['x0' 'x1' 'x2' 'x3' 'x4']\n",
            "\n",
            "z = \n",
            "['z0' 'z1' 'z2' 'z3']\n",
            "\n",
            "k = \n",
            "[1, 3, 2, 0]\n"
          ],
          "name": "stdout"
        }
      ]
    },
    {
      "cell_type": "code",
      "metadata": {
        "id": "idJTqAO_NZqz",
        "colab": {
          "base_uri": "https://localhost:8080/"
        },
        "outputId": "f0d277a6-94a0-4b85-96fe-f16ad0c87493"
      },
      "source": [
        "# Initialize for all j : alpha[j](0)\n",
        "\n",
        "alpha = np.zeros((N,T))\n",
        "for j in range(0, N):\n",
        "  if j==1: #Initial state z(0) = z1\n",
        "    alpha[j][0] = 1\n",
        "  else:\n",
        "    alpha[j][0] = 0\n",
        "\n",
        "print(f'Initialisation of alpha : \\n {alpha}')"
      ],
      "execution_count": null,
      "outputs": [
        {
          "output_type": "stream",
          "text": [
            "Initialisation of alpha : \n",
            " [[0. 0. 0. 0. 0.]\n",
            " [1. 0. 0. 0. 0.]\n",
            " [0. 0. 0. 0. 0.]\n",
            " [0. 0. 0. 0. 0.]]\n"
          ],
          "name": "stdout"
        }
      ]
    },
    {
      "cell_type": "code",
      "metadata": {
        "id": "59yAbUPNmYQ6"
      },
      "source": [
        "def evaluation_problem(a, b, N, T, alpha):\n",
        "  for t in range(1, T):\n",
        "    for j in range(0, N):\n",
        "      temp = 0\n",
        "      for i in range(0, N):\n",
        "        temp += alpha[i, t-1]*a[i, j]\n",
        "      alpha[j, t] = temp*b[j, k[t-1]]\n",
        "  P = alpha[0, T-1]\n",
        "  print('HMM forward algorithm :\\n')\n",
        "  print(alpha)\n",
        "  return P"
      ],
      "execution_count": null,
      "outputs": []
    },
    {
      "cell_type": "code",
      "metadata": {
        "id": "4AhEfFAvlYEo",
        "colab": {
          "base_uri": "https://localhost:8080/"
        },
        "outputId": "7be89825-f28f-4d5e-89de-10d4a8c5bcde"
      },
      "source": [
        "# print(*range(0,T), sep='\\t       ')\n",
        "\n",
        "PxM = evaluation_problem(a, b, N, T, alpha)\n",
        "print(f'\\nP(x|M) = α0(4) = {PxM}')\n",
        "print(\"\\nThe above value is the probability that our model HMM M generated for x = {x1, x3, x2, x0}, \\nwhere M is defined by {aij}, {bjk} and αj (0).\")"
      ],
      "execution_count": null,
      "outputs": [
        {
          "output_type": "stream",
          "text": [
            "HMM forward algorithm :\n",
            "\n",
            "[[0.0000e+00 0.0000e+00 0.0000e+00 0.0000e+00 1.8218e-03]\n",
            " [1.0000e+00 9.0000e-02 5.2000e-03 5.1920e-03 0.0000e+00]\n",
            " [0.0000e+00 1.0000e-02 2.1700e-02 5.4300e-04 0.0000e+00]\n",
            " [0.0000e+00 2.0000e-01 5.7000e-03 9.6400e-04 0.0000e+00]]\n",
            "\n",
            "P(x|M) = α0(4) = 0.0018218000000000002\n",
            "\n",
            "The above value is the probability that our model HMM M generated for x = {x1, x3, x2, x0}, \n",
            "where M is defined by {aij}, {bjk} and αj (0).\n"
          ],
          "name": "stdout"
        }
      ]
    },
    {
      "cell_type": "markdown",
      "metadata": {
        "id": "e7IfuADDd8rV"
      },
      "source": [
        "Decoding Problem\n"
      ]
    },
    {
      "cell_type": "code",
      "metadata": {
        "id": "OFVpk-q2Ynr5"
      },
      "source": [
        "def decoding_problem(a, b, N, T, alpha):\n",
        "  path = [1]\n",
        "  for t in range(1, T):\n",
        "    for j in range(0, N):\n",
        "      temp = 0\n",
        "      for i in range(0, N):\n",
        "        temp += alpha[i, t-1]*a[i, j]\n",
        "      alpha[j, t] = temp*b[j, k[t-1]]\n",
        "    jprime = np.argmax(alpha[:,t]) \n",
        "    path.append(jprime)\n",
        "  return path"
      ],
      "execution_count": null,
      "outputs": []
    },
    {
      "cell_type": "code",
      "metadata": {
        "id": "J8uqiUvLmGIJ",
        "colab": {
          "base_uri": "https://localhost:8080/"
        },
        "outputId": "b8fc3b7b-34a8-4ee7-b48b-729ae19554e9"
      },
      "source": [
        "Path = decoding_problem(a, b, N, T, alpha)\n",
        "\n",
        "print(f'Decoding problem \\n\\nPath = {Path}')\n",
        "print(f\"\\nHence, for each time step, we only consider the hidden state that is the most probable. \\nThen, the sequence of states through which the model transits while generating x is: z{Path[0]}, z{Path[1]}, z{Path[2]}, z{Path[3]}, z{Path[4]}.\")"
      ],
      "execution_count": null,
      "outputs": [
        {
          "output_type": "stream",
          "text": [
            "Decoding problem \n",
            "\n",
            "Path = [1, 3, 2, 1, 0]\n",
            "\n",
            "Hence, for each time step, we only consider the hidden state that is the most probable. \n",
            "Then, the sequence of states through which the model transits while generating x is: z1, z3, z2, z1, z0.\n"
          ],
          "name": "stdout"
        }
      ]
    }
  ]
}